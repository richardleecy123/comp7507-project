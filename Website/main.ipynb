{
 "cells": [
  {
   "cell_type": "code",
   "execution_count": 12,
   "metadata": {},
   "outputs": [],
   "source": [
    "import dash_core_components as dcc\n",
    "import dash_html_components as html\n",
    "from jupyter_dash import JupyterDash\n",
    "from dash.dependencies import Input, Output\n",
    "from graphs import *"
   ]
  },
  {
   "cell_type": "code",
   "execution_count": 2,
   "metadata": {},
   "outputs": [
    {
     "name": "stdout",
     "output_type": "stream",
     "text": [
      "Dash app running on http://127.0.0.1:8051/\n"
     ]
    }
   ],
   "source": [
    "# create a dash app\n",
    "app = JupyterDash()\n",
    "\n",
    "# dash layout\n",
    "app.layout = html.Div(\n",
    "    [dcc.Graph(id=region,figure=drawRadarGraph(region)) for region in set(df['region'])]\n",
    "    # html.Img(\n",
    "    #         src=drawWordCloud('GB')\n",
    "    # ),\n",
    "    # dcc.Graph(\n",
    "    #     id='category_id',\n",
    "    #     figure=category_id\n",
    "    # )\n",
    "    # dcc.Graph(\n",
    "    #     id='views',\n",
    "    #     figure=views\n",
    "    # ),dcc.Graph(\n",
    "    #     id='likes',\n",
    "    #     figure=likes\n",
    "    # ),dcc.Graph(\n",
    "    #     id='dislikes',\n",
    "    #     figure=dislikes\n",
    "    # ),dcc.Graph(\n",
    "    #     id='comment_count',\n",
    "    #     figure=comment_count\n",
    "    # )\n",
    ")\n",
    "\n",
    "# start the dash app\n",
    "app.run_server(debug=True, port=8051)"
   ]
  },
  {
   "cell_type": "code",
   "execution_count": null,
   "metadata": {},
   "outputs": [],
   "source": []
  }
 ],
 "metadata": {
  "interpreter": {
   "hash": "ecf2e0cfc46ba9cf8e3a475754b8e35ed852357b4b258fe31ee6f80569958b53"
  },
  "kernelspec": {
   "display_name": "Python 3.7.11 ('python37')",
   "language": "python",
   "name": "python3"
  },
  "language_info": {
   "codemirror_mode": {
    "name": "ipython",
    "version": 3
   },
   "file_extension": ".py",
   "mimetype": "text/x-python",
   "name": "python",
   "nbconvert_exporter": "python",
   "pygments_lexer": "ipython3",
   "version": "3.7.11"
  },
  "orig_nbformat": 4
 },
 "nbformat": 4,
 "nbformat_minor": 2
}
