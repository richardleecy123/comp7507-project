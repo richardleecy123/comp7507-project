{
 "cells": [
  {
   "cell_type": "markdown",
   "metadata": {},
   "source": [
    "# Preprocessing (Joint)"
   ]
  },
  {
   "cell_type": "code",
   "execution_count": 1,
   "metadata": {},
   "outputs": [
    {
     "name": "stdout",
     "output_type": "stream",
     "text": [
      "CAvideos (24427, 17)\n",
      "views: 20410495101\n",
      "\n",
      "DEvideos (29627, 17)\n",
      "views: 14237965000\n",
      "\n",
      "FRvideos (30581, 17)\n",
      "views: 10575960316\n",
      "\n",
      "GBvideos (3272, 17)\n",
      "views: 15733754312\n",
      "\n",
      "INvideos (16307, 17)\n",
      "views: 11146317224\n",
      "\n",
      "JPvideos (12912, 17)\n",
      "views: 2912931256\n",
      "\n",
      "KRvideos (15876, 17)\n",
      "views: 5924564502\n",
      "\n",
      "MXvideos (33513, 17)\n",
      "views: 9302980511\n",
      "\n",
      "RUvideos (34282, 17)\n",
      "views: 7045179834\n",
      "\n",
      "USvideos (6351, 17)\n",
      "views: 12461406596\n",
      "\n"
     ]
    }
   ],
   "source": [
    "import pandas as pd\n",
    "countries = ['CAvideos','DEvideos','FRvideos','GBvideos','INvideos','JPvideos','KRvideos','MXvideos','RUvideos','USvideos']\n",
    "df_dict={}\n",
    "for country in countries:\n",
    "    df_dict[country] = pd.read_csv(\"../Youtube_data/\"+country+\".csv\", encoding = 'utf-8').drop_duplicates(subset='video_id', keep=\"last\")\n",
    "    df_dict[country][\"region\"] = country[:2]\n",
    "    print(country,df_dict[country].shape)\n",
    "    print(\"views:\",df_dict[country]['views'].sum())\n",
    "    print()"
   ]
  },
  {
   "cell_type": "code",
   "execution_count": 2,
   "metadata": {},
   "outputs": [
    {
     "name": "stdout",
     "output_type": "stream",
     "text": [
      "Unique channels in CAvideos : 5065\n",
      "Unique channels in DEvideos : 6079\n",
      "Unique channels in FRvideos : 6670\n",
      "Unique channels in GBvideos : 1611\n",
      "Unique channels in INvideos : 1422\n",
      "Unique channels in JPvideos : 4616\n",
      "Unique channels in KRvideos : 3982\n",
      "Unique channels in MXvideos : 6921\n",
      "Unique channels in RUvideos : 6866\n",
      "Unique channels in USvideos : 2198\n"
     ]
    },
    {
     "data": {
      "text/plain": [
       "(207148, 17)"
      ]
     },
     "execution_count": 2,
     "metadata": {},
     "output_type": "execute_result"
    }
   ],
   "source": [
    "#Unique channel in each area\n",
    "for country in df_dict.keys():\n",
    "    print(\"Unique channels in\",country,':',len(set(df_dict[country]['channel_title'])))\n",
    "\n",
    "#Concat df of each region\n",
    "df = pd.concat([df_dict[country] for country in df_dict.keys()])\n",
    "df.shape\n"
   ]
  },
  {
   "cell_type": "code",
   "execution_count": 3,
   "metadata": {},
   "outputs": [
    {
     "data": {
      "text/plain": [
       "Index(['video_id', 'trending_date', 'title', 'channel_title', 'category_id',\n",
       "       'publish_time', 'tags', 'views', 'likes', 'dislikes', 'comment_count',\n",
       "       'thumbnail_link', 'comments_disabled', 'ratings_disabled',\n",
       "       'video_error_or_removed', 'description', 'region'],\n",
       "      dtype='object')"
      ]
     },
     "execution_count": 3,
     "metadata": {},
     "output_type": "execute_result"
    }
   ],
   "source": [
    "df.columns"
   ]
  },
  {
   "cell_type": "markdown",
   "metadata": {},
   "source": [
    "# Category"
   ]
  },
  {
   "cell_type": "code",
   "execution_count": 4,
   "metadata": {},
   "outputs": [],
   "source": [
    "import json\n",
    "categories = ['CA_category_id','DE_category_id','FR_category_id','GB_category_id','IN_category_id','JP_category_id','KR_category_id','MX_category_id','RU_category_id','US_category_id']\n",
    "categories_json={}\n",
    "for category in categories:\n",
    "    f = open(\"../Youtube_data/\"+category+\".json\")\n",
    "    data = json.load(f)\n",
    "    categories_json[category[:2]]=data\n",
    "    f.close()"
   ]
  },
  {
   "cell_type": "code",
   "execution_count": 5,
   "metadata": {},
   "outputs": [
    {
     "data": {
      "text/plain": [
       "[{'kind': 'youtube#videoCategory',\n",
       "  'etag': '\"ld9biNPKjAjgjV7EZ4EKeEGrhao/Xy1mB4_yLrHy_BmKmPBggty2mZQ\"',\n",
       "  'id': '1',\n",
       "  'snippet': {'channelId': 'UCBR8-60-B28hp2BmDPdntcQ',\n",
       "   'title': 'Film & Animation',\n",
       "   'assignable': True}},\n",
       " {'kind': 'youtube#videoCategory',\n",
       "  'etag': '\"ld9biNPKjAjgjV7EZ4EKeEGrhao/UZ1oLIIz2dxIhO45ZTFR3a3NyTA\"',\n",
       "  'id': '2',\n",
       "  'snippet': {'channelId': 'UCBR8-60-B28hp2BmDPdntcQ',\n",
       "   'title': 'Autos & Vehicles',\n",
       "   'assignable': True}},\n",
       " {'kind': 'youtube#videoCategory',\n",
       "  'etag': '\"ld9biNPKjAjgjV7EZ4EKeEGrhao/nqRIq97-xe5XRZTxbknKFVe5Lmg\"',\n",
       "  'id': '10',\n",
       "  'snippet': {'channelId': 'UCBR8-60-B28hp2BmDPdntcQ',\n",
       "   'title': 'Music',\n",
       "   'assignable': True}},\n",
       " {'kind': 'youtube#videoCategory',\n",
       "  'etag': '\"ld9biNPKjAjgjV7EZ4EKeEGrhao/HwXKamM1Q20q9BN-oBJavSGkfDI\"',\n",
       "  'id': '15',\n",
       "  'snippet': {'channelId': 'UCBR8-60-B28hp2BmDPdntcQ',\n",
       "   'title': 'Pets & Animals',\n",
       "   'assignable': True}},\n",
       " {'kind': 'youtube#videoCategory',\n",
       "  'etag': '\"ld9biNPKjAjgjV7EZ4EKeEGrhao/9GQMSRjrZdHeb1OEM1XVQ9zbGec\"',\n",
       "  'id': '17',\n",
       "  'snippet': {'channelId': 'UCBR8-60-B28hp2BmDPdntcQ',\n",
       "   'title': 'Sports',\n",
       "   'assignable': True}},\n",
       " {'kind': 'youtube#videoCategory',\n",
       "  'etag': '\"ld9biNPKjAjgjV7EZ4EKeEGrhao/FJwVpGCVZ1yiJrqZbpqe68Sy_OE\"',\n",
       "  'id': '18',\n",
       "  'snippet': {'channelId': 'UCBR8-60-B28hp2BmDPdntcQ',\n",
       "   'title': 'Short Movies',\n",
       "   'assignable': False}},\n",
       " {'kind': 'youtube#videoCategory',\n",
       "  'etag': '\"ld9biNPKjAjgjV7EZ4EKeEGrhao/M-3iD9dwK7YJCafRf_DkLN8CouA\"',\n",
       "  'id': '19',\n",
       "  'snippet': {'channelId': 'UCBR8-60-B28hp2BmDPdntcQ',\n",
       "   'title': 'Travel & Events',\n",
       "   'assignable': True}},\n",
       " {'kind': 'youtube#videoCategory',\n",
       "  'etag': '\"ld9biNPKjAjgjV7EZ4EKeEGrhao/WmA0qYEfjWsAoyJFSw2zinhn2wM\"',\n",
       "  'id': '20',\n",
       "  'snippet': {'channelId': 'UCBR8-60-B28hp2BmDPdntcQ',\n",
       "   'title': 'Gaming',\n",
       "   'assignable': True}},\n",
       " {'kind': 'youtube#videoCategory',\n",
       "  'etag': '\"ld9biNPKjAjgjV7EZ4EKeEGrhao/EapFaGYG7K0StIXVf8aba249tdM\"',\n",
       "  'id': '21',\n",
       "  'snippet': {'channelId': 'UCBR8-60-B28hp2BmDPdntcQ',\n",
       "   'title': 'Videoblogging',\n",
       "   'assignable': False}},\n",
       " {'kind': 'youtube#videoCategory',\n",
       "  'etag': '\"ld9biNPKjAjgjV7EZ4EKeEGrhao/xId8RX7vRN8rqkbYZbNIytUQDRo\"',\n",
       "  'id': '22',\n",
       "  'snippet': {'channelId': 'UCBR8-60-B28hp2BmDPdntcQ',\n",
       "   'title': 'People & Blogs',\n",
       "   'assignable': True}},\n",
       " {'kind': 'youtube#videoCategory',\n",
       "  'etag': '\"ld9biNPKjAjgjV7EZ4EKeEGrhao/G9LHzQmx44rX2S5yaga_Aqtwz8M\"',\n",
       "  'id': '23',\n",
       "  'snippet': {'channelId': 'UCBR8-60-B28hp2BmDPdntcQ',\n",
       "   'title': 'Comedy',\n",
       "   'assignable': True}},\n",
       " {'kind': 'youtube#videoCategory',\n",
       "  'etag': '\"ld9biNPKjAjgjV7EZ4EKeEGrhao/UVB9oxX2Bvqa_w_y3vXSLVK5E_s\"',\n",
       "  'id': '24',\n",
       "  'snippet': {'channelId': 'UCBR8-60-B28hp2BmDPdntcQ',\n",
       "   'title': 'Entertainment',\n",
       "   'assignable': True}},\n",
       " {'kind': 'youtube#videoCategory',\n",
       "  'etag': '\"ld9biNPKjAjgjV7EZ4EKeEGrhao/QiLK0ZIrFoORdk_g2l_XR_ECjDc\"',\n",
       "  'id': '25',\n",
       "  'snippet': {'channelId': 'UCBR8-60-B28hp2BmDPdntcQ',\n",
       "   'title': 'News & Politics',\n",
       "   'assignable': True}},\n",
       " {'kind': 'youtube#videoCategory',\n",
       "  'etag': '\"ld9biNPKjAjgjV7EZ4EKeEGrhao/r6Ck6Z0_L0rG37VJQR200SGNA_w\"',\n",
       "  'id': '26',\n",
       "  'snippet': {'channelId': 'UCBR8-60-B28hp2BmDPdntcQ',\n",
       "   'title': 'Howto & Style',\n",
       "   'assignable': True}},\n",
       " {'kind': 'youtube#videoCategory',\n",
       "  'etag': '\"ld9biNPKjAjgjV7EZ4EKeEGrhao/EoYkczo9I3RCf96RveKTOgOPkUM\"',\n",
       "  'id': '27',\n",
       "  'snippet': {'channelId': 'UCBR8-60-B28hp2BmDPdntcQ',\n",
       "   'title': 'Education',\n",
       "   'assignable': True}},\n",
       " {'kind': 'youtube#videoCategory',\n",
       "  'etag': '\"ld9biNPKjAjgjV7EZ4EKeEGrhao/w5HjcTD82G_XA3xBctS30zS-JpQ\"',\n",
       "  'id': '28',\n",
       "  'snippet': {'channelId': 'UCBR8-60-B28hp2BmDPdntcQ',\n",
       "   'title': 'Science & Technology',\n",
       "   'assignable': True}},\n",
       " {'kind': 'youtube#videoCategory',\n",
       "  'etag': '\"ld9biNPKjAjgjV7EZ4EKeEGrhao/lL7uWDr_071CHxifjYG1tJrp4Uo\"',\n",
       "  'id': '30',\n",
       "  'snippet': {'channelId': 'UCBR8-60-B28hp2BmDPdntcQ',\n",
       "   'title': 'Movies',\n",
       "   'assignable': False}},\n",
       " {'kind': 'youtube#videoCategory',\n",
       "  'etag': '\"ld9biNPKjAjgjV7EZ4EKeEGrhao/WnuVfjO-PyFLO7NTRQIbrGE62nk\"',\n",
       "  'id': '31',\n",
       "  'snippet': {'channelId': 'UCBR8-60-B28hp2BmDPdntcQ',\n",
       "   'title': 'Anime/Animation',\n",
       "   'assignable': False}},\n",
       " {'kind': 'youtube#videoCategory',\n",
       "  'etag': '\"ld9biNPKjAjgjV7EZ4EKeEGrhao/ctpH2hGA_UZ3volJT_FTlOg9M00\"',\n",
       "  'id': '32',\n",
       "  'snippet': {'channelId': 'UCBR8-60-B28hp2BmDPdntcQ',\n",
       "   'title': 'Action/Adventure',\n",
       "   'assignable': False}},\n",
       " {'kind': 'youtube#videoCategory',\n",
       "  'etag': '\"ld9biNPKjAjgjV7EZ4EKeEGrhao/L0kR3-g1BAo5UD1PLVbQ7LkkDtQ\"',\n",
       "  'id': '33',\n",
       "  'snippet': {'channelId': 'UCBR8-60-B28hp2BmDPdntcQ',\n",
       "   'title': 'Classics',\n",
       "   'assignable': False}},\n",
       " {'kind': 'youtube#videoCategory',\n",
       "  'etag': '\"ld9biNPKjAjgjV7EZ4EKeEGrhao/pUZOAC_s9sfiwar639qr_wAB-aI\"',\n",
       "  'id': '34',\n",
       "  'snippet': {'channelId': 'UCBR8-60-B28hp2BmDPdntcQ',\n",
       "   'title': 'Comedy',\n",
       "   'assignable': False}},\n",
       " {'kind': 'youtube#videoCategory',\n",
       "  'etag': '\"ld9biNPKjAjgjV7EZ4EKeEGrhao/Xb5JLhtyNRN3AQq021Ds-OV50Jk\"',\n",
       "  'id': '35',\n",
       "  'snippet': {'channelId': 'UCBR8-60-B28hp2BmDPdntcQ',\n",
       "   'title': 'Documentary',\n",
       "   'assignable': False}},\n",
       " {'kind': 'youtube#videoCategory',\n",
       "  'etag': '\"ld9biNPKjAjgjV7EZ4EKeEGrhao/u8WXzF4HIhtEi805__sqjuA4lEk\"',\n",
       "  'id': '36',\n",
       "  'snippet': {'channelId': 'UCBR8-60-B28hp2BmDPdntcQ',\n",
       "   'title': 'Drama',\n",
       "   'assignable': False}},\n",
       " {'kind': 'youtube#videoCategory',\n",
       "  'etag': '\"ld9biNPKjAjgjV7EZ4EKeEGrhao/D04PP4Gr7wc4IV_O9G66Z4A8KWQ\"',\n",
       "  'id': '37',\n",
       "  'snippet': {'channelId': 'UCBR8-60-B28hp2BmDPdntcQ',\n",
       "   'title': 'Family',\n",
       "   'assignable': False}},\n",
       " {'kind': 'youtube#videoCategory',\n",
       "  'etag': '\"ld9biNPKjAjgjV7EZ4EKeEGrhao/i5-_AceGXQCEEMWU0V8CcQm_vLQ\"',\n",
       "  'id': '38',\n",
       "  'snippet': {'channelId': 'UCBR8-60-B28hp2BmDPdntcQ',\n",
       "   'title': 'Foreign',\n",
       "   'assignable': False}},\n",
       " {'kind': 'youtube#videoCategory',\n",
       "  'etag': '\"ld9biNPKjAjgjV7EZ4EKeEGrhao/rtlxd0zOixA9QHdIZB26-St5qgQ\"',\n",
       "  'id': '39',\n",
       "  'snippet': {'channelId': 'UCBR8-60-B28hp2BmDPdntcQ',\n",
       "   'title': 'Horror',\n",
       "   'assignable': False}},\n",
       " {'kind': 'youtube#videoCategory',\n",
       "  'etag': '\"ld9biNPKjAjgjV7EZ4EKeEGrhao/N1TrDFLRppxZgBowCJfJCvh0Dpg\"',\n",
       "  'id': '40',\n",
       "  'snippet': {'channelId': 'UCBR8-60-B28hp2BmDPdntcQ',\n",
       "   'title': 'Sci-Fi/Fantasy',\n",
       "   'assignable': False}},\n",
       " {'kind': 'youtube#videoCategory',\n",
       "  'etag': '\"ld9biNPKjAjgjV7EZ4EKeEGrhao/7UMGi6zRySqXopr_rv4sZq6Za2E\"',\n",
       "  'id': '41',\n",
       "  'snippet': {'channelId': 'UCBR8-60-B28hp2BmDPdntcQ',\n",
       "   'title': 'Thriller',\n",
       "   'assignable': False}},\n",
       " {'kind': 'youtube#videoCategory',\n",
       "  'etag': '\"ld9biNPKjAjgjV7EZ4EKeEGrhao/RScXhi324h8usyIetreAVb-uKeM\"',\n",
       "  'id': '42',\n",
       "  'snippet': {'channelId': 'UCBR8-60-B28hp2BmDPdntcQ',\n",
       "   'title': 'Shorts',\n",
       "   'assignable': False}},\n",
       " {'kind': 'youtube#videoCategory',\n",
       "  'etag': '\"ld9biNPKjAjgjV7EZ4EKeEGrhao/0n9MJVCDLpA8q7aiGVrFsuFsd0A\"',\n",
       "  'id': '43',\n",
       "  'snippet': {'channelId': 'UCBR8-60-B28hp2BmDPdntcQ',\n",
       "   'title': 'Shows',\n",
       "   'assignable': False}},\n",
       " {'kind': 'youtube#videoCategory',\n",
       "  'etag': '\"ld9biNPKjAjgjV7EZ4EKeEGrhao/x5NxSf5fz8hn4loSN4rvhwzD_pY\"',\n",
       "  'id': '44',\n",
       "  'snippet': {'channelId': 'UCBR8-60-B28hp2BmDPdntcQ',\n",
       "   'title': 'Trailers',\n",
       "   'assignable': False}}]"
      ]
     },
     "execution_count": 5,
     "metadata": {},
     "output_type": "execute_result"
    }
   ],
   "source": [
    "categories_json['CA']['items']"
   ]
  },
  {
   "cell_type": "code",
   "execution_count": 6,
   "metadata": {},
   "outputs": [
    {
     "data": {
      "text/plain": [
       "{'29',\n",
       " 'Autos & Vehicles',\n",
       " 'Comedy',\n",
       " 'Education',\n",
       " 'Entertainment',\n",
       " 'Film & Animation',\n",
       " 'Gaming',\n",
       " 'Howto & Style',\n",
       " 'Movies',\n",
       " 'Music',\n",
       " 'News & Politics',\n",
       " 'Nonprofits & Activism',\n",
       " 'People & Blogs',\n",
       " 'Pets & Animals',\n",
       " 'Science & Technology',\n",
       " 'Shows',\n",
       " 'Sports',\n",
       " 'Trailers',\n",
       " 'Travel & Events'}"
      ]
     },
     "execution_count": 6,
     "metadata": {},
     "output_type": "execute_result"
    }
   ],
   "source": [
    "def catIDToString(cat, reg):\n",
    "    #print(cat, reg)\n",
    "    try:\n",
    "        return next(item for item in categories_json[reg]['items'] if item[\"id\"] == str(cat))['snippet']['title']\n",
    "    except:\n",
    "        return str(cat)\n",
    "\n",
    "df['category_id'] = df.apply(lambda r: catIDToString(r['category_id'], r['region']), axis=1)\n",
    "set(df['category_id'])"
   ]
  },
  {
   "cell_type": "code",
   "execution_count": 7,
   "metadata": {},
   "outputs": [],
   "source": [
    "from datetime import datetime\n",
    "import numpy as np\n",
    "df['publish_time'] = df.apply(lambda r: datetime.strptime(r['publish_time'],'%Y-%m-%dT%H:%M:%S.%fZ'), axis=1)\n",
    "df['channel_rank'] = df.groupby('channel_title')['views'].transform(np.sum).rank(ascending=False, method='dense')"
   ]
  },
  {
   "cell_type": "code",
   "execution_count": 9,
   "metadata": {},
   "outputs": [],
   "source": [
    "df.to_csv('youtube_all_district.csv', index=False)"
   ]
  },
  {
   "cell_type": "code",
   "execution_count": null,
   "metadata": {},
   "outputs": [],
   "source": []
  },
  {
   "cell_type": "code",
   "execution_count": null,
   "metadata": {},
   "outputs": [],
   "source": []
  },
  {
   "cell_type": "code",
   "execution_count": null,
   "metadata": {},
   "outputs": [],
   "source": []
  }
 ],
 "metadata": {
  "interpreter": {
   "hash": "682f7833ba8e905d5acff324393f9b2a5e85cb3ab0887fadf22e785eb301dcc5"
  },
  "kernelspec": {
   "display_name": "Python 3.9.7 ('base')",
   "language": "python",
   "name": "python3"
  },
  "language_info": {
   "codemirror_mode": {
    "name": "ipython",
    "version": 3
   },
   "file_extension": ".py",
   "mimetype": "text/x-python",
   "name": "python",
   "nbconvert_exporter": "python",
   "pygments_lexer": "ipython3",
   "version": "3.7.11"
  },
  "orig_nbformat": 4
 },
 "nbformat": 4,
 "nbformat_minor": 2
}
